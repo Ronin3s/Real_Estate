{
 "cells": [
  {
   "cell_type": "code",
   "execution_count": 1,
   "id": "e6cb522d",
   "metadata": {},
   "outputs": [],
   "source": [
    "import pandas as pd\n",
    "import numpy as np\n",
    "from sklearn.model_selection import train_test_split\n",
    "from sklearn.preprocessing import LabelEncoder\n",
    "from sklearn.tree import DecisionTreeClassifier\n",
    "from sklearn.metrics import accuracy_score, classification_report\n"
   ]
  },
  {
   "cell_type": "code",
   "execution_count": 2,
   "id": "972ea9c4",
   "metadata": {},
   "outputs": [
    {
     "name": "stdout",
     "output_type": "stream",
     "text": [
      "Shape after cleaning: (42514, 11)\n",
      "bedrooms     float64\n",
      "bathrooms    float64\n",
      "level        float64\n",
      "dtype: object\n"
     ]
    }
   ],
   "source": [
    "\n",
    "import pandas as pd\n",
    "\n",
    "# تحميل البيانات (لو مش محملة بالفعل)\n",
    "df = pd.read_csv(r\"D:\\eino\\data.csv\")\n",
    "\n",
    "# تحويل الأعمدة إلى أرقام\n",
    "cols_to_numeric = ['bedrooms', 'bathrooms', 'level']\n",
    "for col in cols_to_numeric:\n",
    "    df[col] = pd.to_numeric(df[col], errors='coerce')\n",
    "\n",
    "# معالجة القيم الناقصة في furnished\n",
    "df['furnished'] = df['furnished'].fillna('unknown')\n",
    "\n",
    "# حذف الصفوف اللي فيها نواقص في الأعمدة الرقمية\n",
    "df.dropna(subset=cols_to_numeric, inplace=True)\n",
    "\n",
    "# التأكد من التنظيف\n",
    "print(\"Shape after cleaning:\", df.shape)\n",
    "print(df[cols_to_numeric].dtypes)\n",
    "\n",
    "\n"
   ]
  },
  {
   "cell_type": "code",
   "execution_count": 3,
   "id": "f38f5534",
   "metadata": {},
   "outputs": [
    {
     "name": "stdout",
     "output_type": "stream",
     "text": [
      "price_category\n",
      "Low       14270\n",
      "Medium    14201\n",
      "High      14043\n",
      "Name: count, dtype: int64\n"
     ]
    }
   ],
   "source": [
    "# تقسيم السعر إلى 3 فئات\n",
    "df['price_category'] = pd.qcut(\n",
    "    df['price'],\n",
    "    q=3,\n",
    "    labels=['Low', 'Medium', 'High']\n",
    ")\n",
    "\n",
    "# التحقق من توزيع الفئات\n",
    "print(df['price_category'].value_counts())\n",
    "\n"
   ]
  },
  {
   "cell_type": "code",
   "execution_count": 4,
   "id": "33956bde",
   "metadata": {},
   "outputs": [
    {
     "data": {
      "text/plain": [
       "((34011, 211), (8503, 211))"
      ]
     },
     "execution_count": 4,
     "metadata": {},
     "output_type": "execute_result"
    }
   ],
   "source": [
    "from sklearn.model_selection import train_test_split\n",
    "\n",
    "# اختيار الخصائص (features) واستبعاد الأعمدة اللي مش لازمة\n",
    "X = df.drop(columns=['ad_id', 'price', 'price_category'])\n",
    "\n",
    "# One-Hot Encoding للأعمدة النصية\n",
    "X_encoded = pd.get_dummies(X, columns=[\n",
    "    'type', 'furnished', 'rent', 'city', 'region'\n",
    "], drop_first=True)\n",
    "\n",
    "# تحديد الهدف (Target)\n",
    "y = df['price_category']\n",
    "\n",
    "# تقسيم البيانات إلى تدريب واختبار\n",
    "X_train, X_test, y_train, y_test = train_test_split(\n",
    "    X_encoded, y, test_size=0.2, random_state=42\n",
    ")\n",
    "\n",
    "# عرض الأشكال النهائية للبيانات\n",
    "X_train.shape, X_test.shape\n"
   ]
  },
  {
   "cell_type": "code",
   "execution_count": 5,
   "id": "aa38c81a",
   "metadata": {},
   "outputs": [
    {
     "name": "stdout",
     "output_type": "stream",
     "text": [
      "Accuracy: 0.8547571445372222\n",
      "              precision    recall  f1-score   support\n",
      "\n",
      "        High       0.80      0.95      0.87      2832\n",
      "         Low       0.90      0.95      0.93      2858\n",
      "      Medium       0.87      0.66      0.75      2813\n",
      "\n",
      "    accuracy                           0.85      8503\n",
      "   macro avg       0.86      0.85      0.85      8503\n",
      "weighted avg       0.86      0.85      0.85      8503\n",
      "\n"
     ]
    }
   ],
   "source": [
    "from sklearn.ensemble import RandomForestClassifier\n",
    "from sklearn.metrics import accuracy_score, classification_report\n",
    "\n",
    "# تدريب Random Forest\n",
    "model = RandomForestClassifier(\n",
    "    n_estimators=100,\n",
    "    max_depth=15,\n",
    "    random_state=42,\n",
    "    n_jobs=-1\n",
    ")\n",
    "model.fit(X_train, y_train)\n",
    "\n",
    "# التنبؤ\n",
    "y_pred = model.predict(X_test)\n",
    "\n",
    "# التقييم\n",
    "print(\"Accuracy:\", accuracy_score(y_test, y_pred))\n",
    "print(classification_report(y_test, y_pred))\n",
    "\n"
   ]
  },
  {
   "cell_type": "code",
   "execution_count": 6,
   "id": "5dd134ee",
   "metadata": {},
   "outputs": [
    {
     "name": "stdout",
     "output_type": "stream",
     "text": [
      "Accuracy: 0.9235563918616959\n",
      "              precision    recall  f1-score   support\n",
      "\n",
      "        High       0.90      0.95      0.93      2832\n",
      "         Low       0.96      0.97      0.96      2858\n",
      "      Medium       0.92      0.85      0.88      2813\n",
      "\n",
      "    accuracy                           0.92      8503\n",
      "   macro avg       0.92      0.92      0.92      8503\n",
      "weighted avg       0.92      0.92      0.92      8503\n",
      "\n"
     ]
    }
   ],
   "source": [
    "# تحسين Random Forest بزيادة عدد الأشجار والعمق\n",
    "improved_model = RandomForestClassifier(\n",
    "    n_estimators=300,\n",
    "    max_depth=25,\n",
    "    random_state=42,\n",
    "    n_jobs=-1\n",
    ")\n",
    "improved_model.fit(X_train, y_train)\n",
    "\n",
    "# التنبؤ\n",
    "improved_y_pred = improved_model.predict(X_test)\n",
    "\n",
    "# التقييم\n",
    "print(\"Accuracy:\", accuracy_score(y_test, improved_y_pred))\n",
    "print(classification_report(y_test, improved_y_pred))\n"
   ]
  },
  {
   "cell_type": "code",
   "execution_count": 7,
   "id": "5d021c7c",
   "metadata": {},
   "outputs": [
    {
     "name": "stdout",
     "output_type": "stream",
     "text": [
      "Accuracy: 0.8976831706456545\n",
      "              precision    recall  f1-score   support\n",
      "\n",
      "        High       0.87      0.94      0.90      2832\n",
      "         Low       0.93      0.96      0.95      2858\n",
      "      Medium       0.89      0.79      0.84      2813\n",
      "\n",
      "    accuracy                           0.90      8503\n",
      "   macro avg       0.90      0.90      0.90      8503\n",
      "weighted avg       0.90      0.90      0.90      8503\n",
      "\n"
     ]
    }
   ],
   "source": [
    "# تحسين إضافي للموديل\n",
    "tuned_model = RandomForestClassifier(\n",
    "    n_estimators=400,\n",
    "    max_depth=30,\n",
    "    min_samples_leaf=2,\n",
    "    random_state=42,\n",
    "    n_jobs=-1\n",
    ")\n",
    "tuned_model.fit(X_train, y_train)\n",
    "\n",
    "# التنبؤ\n",
    "tuned_y_pred = tuned_model.predict(X_test)\n",
    "\n",
    "# التقييم\n",
    "print(\"Accuracy:\", accuracy_score(y_test, tuned_y_pred))\n",
    "print(classification_report(y_test, tuned_y_pred))\n"
   ]
  },
  {
   "cell_type": "code",
   "execution_count": 8,
   "id": "57b84353",
   "metadata": {},
   "outputs": [
    {
     "name": "stdout",
     "output_type": "stream",
     "text": [
      "Accuracy: 0.758\n",
      "              precision    recall  f1-score   support\n",
      "\n",
      "        High       0.70      0.95      0.81       635\n",
      "         Low       0.81      0.95      0.87       696\n",
      "      Medium       0.79      0.38      0.51       669\n",
      "\n",
      "    accuracy                           0.76      2000\n",
      "   macro avg       0.77      0.76      0.73      2000\n",
      "weighted avg       0.77      0.76      0.73      2000\n",
      "\n"
     ]
    }
   ],
   "source": [
    "from sklearn.svm import LinearSVC\n",
    "from sklearn.metrics import classification_report, accuracy_score\n",
    "\n",
    "# نختار عينة صغيرة (5000 سجل فقط)\n",
    "sample_size = 5000\n",
    "X_sample = X_train[:sample_size]\n",
    "y_sample = y_train[:sample_size]\n",
    "\n",
    "# تدريب Linear SVM\n",
    "svm_model = LinearSVC(max_iter=5000, random_state=42)\n",
    "svm_model.fit(X_sample, y_sample)\n",
    "\n",
    "# التنبؤ على نفس العينة (أو جزء منها لو حبيت)\n",
    "y_sample_pred = svm_model.predict(X_test[:2000])  # لتسريع التقييم\n",
    "\n",
    "# التقييم\n",
    "print(\"Accuracy:\", accuracy_score(y_test[:2000], y_sample_pred))\n",
    "print(classification_report(y_test[:2000], y_sample_pred))\n"
   ]
  },
  {
   "cell_type": "code",
   "execution_count": 10,
   "id": "da0e98d9",
   "metadata": {},
   "outputs": [
    {
     "name": "stderr",
     "output_type": "stream",
     "text": [
      "c:\\Users\\Alhandsya\\AppData\\Local\\Programs\\Python\\Python312\\Lib\\site-packages\\sklearn\\linear_model\\_logistic.py:1264: FutureWarning: 'multi_class' was deprecated in version 1.5 and will be removed in 1.7. From then on, it will always use 'multinomial'. Leave it to its default value to avoid this warning.\n",
      "  warnings.warn(\n"
     ]
    },
    {
     "name": "stdout",
     "output_type": "stream",
     "text": [
      "Logistic Regression Accuracy: 0.7891332470892626\n",
      "              precision    recall  f1-score   support\n",
      "\n",
      "        High       0.77      0.88      0.83      2832\n",
      "         Low       0.86      0.89      0.87      2858\n",
      "      Medium       0.72      0.59      0.65      2813\n",
      "\n",
      "    accuracy                           0.79      8503\n",
      "   macro avg       0.78      0.79      0.78      8503\n",
      "weighted avg       0.78      0.79      0.78      8503\n",
      "\n"
     ]
    }
   ],
   "source": [
    "from sklearn.linear_model import LogisticRegression\n",
    "\n",
    "log_reg = LogisticRegression(\n",
    "    max_iter=1000,\n",
    "    multi_class='multinomial',\n",
    "    solver='lbfgs',\n",
    "    n_jobs=-1,\n",
    "    random_state=42\n",
    ")\n",
    "log_reg.fit(X_train, y_train)\n",
    "\n",
    "y_pred_log = log_reg.predict(X_test)\n",
    "\n",
    "print(\"Logistic Regression Accuracy:\", accuracy_score(y_test, y_pred_log))\n",
    "print(classification_report(y_test, y_pred_log))\n"
   ]
  },
  {
   "cell_type": "code",
   "execution_count": null,
   "id": "6a076faa",
   "metadata": {},
   "outputs": [],
   "source": []
  },
  {
   "cell_type": "code",
   "execution_count": 11,
   "id": "12ada21a",
   "metadata": {},
   "outputs": [
    {
     "name": "stdout",
     "output_type": "stream",
     "text": [
      "[LightGBM] [Warning] Found whitespace in feature_names, replace with underlines\n",
      "[LightGBM] [Info] Auto-choosing row-wise multi-threading, the overhead of testing was 0.000652 seconds.\n",
      "You can set `force_row_wise=true` to remove the overhead.\n",
      "And if memory is not enough, you can set `force_col_wise=true`.\n",
      "[LightGBM] [Info] Total Bins 460\n",
      "[LightGBM] [Info] Number of data points in the train set: 34011, number of used features: 101\n",
      "[LightGBM] [Info] Start training from score -1.109789\n",
      "[LightGBM] [Info] Start training from score -1.092019\n",
      "[LightGBM] [Info] Start training from score -1.094124\n",
      "[LightGBM] [Warning] No further splits with positive gain, best gain: -inf\n",
      "[LightGBM] [Warning] No further splits with positive gain, best gain: -inf\n",
      "[LightGBM] [Warning] No further splits with positive gain, best gain: -inf\n",
      "[LightGBM] [Warning] No further splits with positive gain, best gain: -inf\n",
      "[LightGBM] [Warning] No further splits with positive gain, best gain: -inf\n",
      "[LightGBM] [Warning] No further splits with positive gain, best gain: -inf\n",
      "[LightGBM] [Warning] No further splits with positive gain, best gain: -inf\n",
      "[LightGBM] [Warning] No further splits with positive gain, best gain: -inf\n",
      "LightGBM Accuracy: 0.8596965776784664\n",
      "              precision    recall  f1-score   support\n",
      "\n",
      "        High       0.82      0.91      0.86      2832\n",
      "         Low       0.92      0.95      0.94      2858\n",
      "      Medium       0.84      0.71      0.77      2813\n",
      "\n",
      "    accuracy                           0.86      8503\n",
      "   macro avg       0.86      0.86      0.86      8503\n",
      "weighted avg       0.86      0.86      0.86      8503\n",
      "\n"
     ]
    }
   ],
   "source": [
    "import lightgbm as lgb\n",
    "\n",
    "lgb_model = lgb.LGBMClassifier(\n",
    "    n_estimators=100,\n",
    "    max_depth=10,\n",
    "    learning_rate=0.1,\n",
    "    random_state=42,\n",
    "    n_jobs=-1\n",
    ")\n",
    "lgb_model.fit(X_train, y_train)\n",
    "\n",
    "y_pred_lgb = lgb_model.predict(X_test)\n",
    "\n",
    "print(\"LightGBM Accuracy:\", accuracy_score(y_test, y_pred_lgb))\n",
    "print(classification_report(y_test, y_pred_lgb))\n"
   ]
  },
  {
   "cell_type": "code",
   "execution_count": 12,
   "id": "5e620401",
   "metadata": {},
   "outputs": [
    {
     "data": {
      "text/plain": [
       "['model_features.pkl']"
      ]
     },
     "execution_count": 12,
     "metadata": {},
     "output_type": "execute_result"
    }
   ],
   "source": [
    "import joblib\n",
    "\n",
    "# حفظ الموديل\n",
    "joblib.dump(model, 'random_forest_model.pkl')\n",
    "\n",
    "# حفظ أسماء أعمدة الـ One-Hot Encoded\n",
    "joblib.dump(X_encoded.columns.tolist(), 'model_features.pkl')\n"
   ]
  }
 ],
 "metadata": {
  "kernelspec": {
   "display_name": "Python 3",
   "language": "python",
   "name": "python3"
  },
  "language_info": {
   "codemirror_mode": {
    "name": "ipython",
    "version": 3
   },
   "file_extension": ".py",
   "mimetype": "text/x-python",
   "name": "python",
   "nbconvert_exporter": "python",
   "pygments_lexer": "ipython3",
   "version": "3.12.3"
  }
 },
 "nbformat": 4,
 "nbformat_minor": 5
}
